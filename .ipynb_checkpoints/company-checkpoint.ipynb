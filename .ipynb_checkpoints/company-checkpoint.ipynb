{
 "cells": [
  {
   "cell_type": "code",
   "execution_count": 1,
   "id": "ed0a85d9",
   "metadata": {},
   "outputs": [],
   "source": [
    "import networkx as nx\n",
    "import pandas as pd\n",
    "import powerlaw\n",
    "import matplotlib.pyplot as plt\n",
    "import time\n",
    "import seaborn as sns\n",
    "import itertools"
   ]
  },
  {
   "cell_type": "code",
   "execution_count": 2,
   "id": "5195f7ff",
   "metadata": {},
   "outputs": [],
   "source": [
    "def top(d: dict) -> list:\n",
    "    for key, value in sorted(d.items(), key=lambda x: x[1], reverse=True)[:5]:\n",
    "        print(f'{key}: {value}')"
   ]
  },
  {
   "cell_type": "code",
   "execution_count": 3,
   "id": "1d6402bf",
   "metadata": {},
   "outputs": [],
   "source": [
    "# Load the graph using NetworkX\n",
    "dataset_name = 'TV Shows'\n",
    "df = pd.read_csv('tvshow_edges.csv')\n",
    "edges = [tuple(x) for x in df.to_numpy()]\n",
    "\n",
    "# Creating the graph\n",
    "G_nx = nx.Graph()\n",
    "G_nx.add_edges_from(edges)"
   ]
  },
  {
   "cell_type": "code",
   "execution_count": null,
   "id": "70e95cc9",
   "metadata": {},
   "outputs": [],
   "source": [
    "plt.figure(figsize=(12, 6))\n",
    "\n",
    "# Subplot 1: Network Visualization\n",
    "plt.subplot(121)\n",
    "pos = nx.spring_layout(G_nx)\n",
    "nx.draw(G_nx, node_size=10, pos=pos)\n",
    "plt.title('Network Visualization of ' + dataset_name)\n",
    "\n",
    "# Subplot 2: Degree Distribution\n",
    "plt.subplot(122)\n",
    "degrees = [d for n, d in G_nx.degree()]\n",
    "plt.hist(degrees, bins=30, alpha=0.7)\n",
    "plt.title('Degree Distribution of ' + dataset_name)\n",
    "plt.xlabel('Degree')\n",
    "plt.ylabel('Frequency')\n",
    "\n",
    "# Adjust layout to prevent overlap\n",
    "plt.tight_layout()\n",
    "\n",
    "# Show the combined plot\n",
    "plt.show()"
   ]
  },
  {
   "cell_type": "code",
   "execution_count": null,
   "id": "5b667ed5",
   "metadata": {},
   "outputs": [],
   "source": [
    "# Calculate network properties\n",
    "degree_distr = sorted(dict(G_nx.degree()).values(), reverse=True)\n",
    "fit = powerlaw.Fit(degree_distr)\n",
    "\n",
    "print('Number of nodes:', len(G_nx.nodes()))\n",
    "print('Number of edges:', len(G_nx.edges()))\n",
    "print('Min degree:', min(degrees))\n",
    "print('Max degree:', max(degrees))\n",
    "print('Average degree:', sum(degrees) / len(degrees))\n",
    "print('Estimated gamma:', fit.alpha)"
   ]
  },
  {
   "cell_type": "markdown",
   "id": "b6fbca12",
   "metadata": {},
   "source": [
    "## Centrality"
   ]
  },
  {
   "cell_type": "code",
   "execution_count": null,
   "id": "97510824",
   "metadata": {},
   "outputs": [],
   "source": [
    "betweenness_centrality = nx.betweenness_centrality(G_nx)\n",
    "print('Betweenness Centrality:')\n",
    "top(betweenness_centrality)"
   ]
  },
  {
   "cell_type": "code",
   "execution_count": null,
   "id": "d7382c76",
   "metadata": {},
   "outputs": [],
   "source": [
    "closeness_centrality = nx.closeness_centrality(G_nx)\n",
    "print('Closeness Centrality:')\n",
    "top(closeness_centrality)"
   ]
  },
  {
   "cell_type": "code",
   "execution_count": null,
   "id": "47d21808",
   "metadata": {},
   "outputs": [],
   "source": [
    "degree_centrality = nx.degree_centrality(G_nx)\n",
    "print('Degree Centrality:')\n",
    "top(degree_centrality)"
   ]
  },
  {
   "cell_type": "code",
   "execution_count": null,
   "id": "b40408d0",
   "metadata": {},
   "outputs": [],
   "source": [
    "eigenvector_centrality = nx.eigenvector_centrality(G_nx)\n",
    "print('Eigenvector Centrality:')\n",
    "top(eigenvector_centrality)"
   ]
  },
  {
   "cell_type": "code",
   "execution_count": null,
   "id": "6a4a9e94",
   "metadata": {},
   "outputs": [],
   "source": [
    "page_rank_centrality = nx.pagerank(G_nx)\n",
    "print('Page Rank Centrality:')\n",
    "top(page_rank_centrality)"
   ]
  },
  {
   "cell_type": "code",
   "execution_count": null,
   "id": "13c64df5",
   "metadata": {},
   "outputs": [],
   "source": [
    "hits_centrality = nx.hits(G_nx)[0]\n",
    "print('HITS Centrality:')\n",
    "top(hits_centrality)"
   ]
  },
  {
   "cell_type": "code",
   "execution_count": null,
   "id": "2094c925",
   "metadata": {},
   "outputs": [],
   "source": [
    "current_flow_betweenness_centrality = nx.current_flow_betweenness_centrality(G_nx)\n",
    "print('Current Flow Betweenness:')\n",
    "top(current_flow_betweenness_centrality)"
   ]
  },
  {
   "cell_type": "code",
   "execution_count": null,
   "id": "3e12ef93",
   "metadata": {},
   "outputs": [],
   "source": [
    "load_centrality = nx.load_centrality(G_nx)\n",
    "print('Load Centrality:')\n",
    "top(load_centrality)"
   ]
  },
  {
   "cell_type": "code",
   "execution_count": null,
   "id": "79049608",
   "metadata": {},
   "outputs": [],
   "source": [
    "subgraph_centrality = nx.subgraph_centrality(G_nx)\n",
    "print('Subgraph Centrality:')\n",
    "top(subgraph_centrality)"
   ]
  },
  {
   "cell_type": "code",
   "execution_count": null,
   "id": "99f6762d",
   "metadata": {},
   "outputs": [],
   "source": [
    "harmonic_centrality = nx.harmonic_centrality(G_nx)\n",
    "print('Harmonic Centrality:')\n",
    "top(harmonic_centrality)"
   ]
  },
  {
   "cell_type": "code",
   "execution_count": null,
   "id": "9357153b",
   "metadata": {},
   "outputs": [],
   "source": [
    "# Convert centrality measures to DataFrames\n",
    "centrality_measures = {\n",
    "    'Betweenness': betweenness_centrality,\n",
    "    'Closeness': closeness_centrality,\n",
    "    'Degree': degree_centrality,\n",
    "    'Eigenvector': eigenvector_centrality,\n",
    "    'Page Rank': page_rank_centrality,\n",
    "    'HITS': hits_centrality,\n",
    "    'Current Flow': current_flow_betweenness_centrality,\n",
    "    'Load': load_centrality,\n",
    "    'Subgraph': subgraph_centrality,\n",
    "    'Harmonic': harmonic_centrality\n",
    "}\n",
    "\n",
    "# Compute correlations between centrality measures\n",
    "centrality_df = pd.DataFrame(centrality_measures)\n",
    "centrality_corr = centrality_df.corr()\n",
    "\n",
    "# Visualize correlation matrix\n",
    "plt.figure(figsize=(8, 8))\n",
    "plt.title('Correlation Heatmap of Centrality Measures')\n",
    "sns.heatmap(centrality_corr, annot=True, cmap='coolwarm', fmt='.2f', square=True)\n",
    "plt.xticks(rotation=45)\n",
    "plt.yticks(rotation=0)\n",
    "plt.tight_layout()\n",
    "plt.show()"
   ]
  },
  {
   "cell_type": "markdown",
   "id": "57dac8be",
   "metadata": {},
   "source": [
    "## Community Detection"
   ]
  },
  {
   "cell_type": "code",
   "execution_count": null,
   "id": "fd9384cb",
   "metadata": {},
   "outputs": [],
   "source": [
    "communities = {}\n",
    "modularity_values = {}\n",
    "coverage_values = {}\n",
    "performance_values = {}\n",
    "\n",
    "k = 4\n",
    "max_size = 4"
   ]
  },
  {
   "cell_type": "code",
   "execution_count": null,
   "id": "9b16560f",
   "metadata": {},
   "outputs": [],
   "source": [
    "communities['Bipartitions'] = nx.community.kernighan_lin_bisection(G_nx)\n",
    "print('No of communities: ', len(communities['Bipartitions']))\n",
    "\n",
    "modularity_values['Bipartitions'] = nx.community.modularity(G_nx, communities['Bipartitions'])\n",
    "\n",
    "partition_quality = nx.community.partition_quality(G_nx, communities['Bipartitions'])\n",
    "coverage_values['Bipartitions'] = partition_quality[0]\n",
    "performance_values['Bipartitions'] = partition_quality[1]"
   ]
  },
  {
   "cell_type": "code",
   "execution_count": null,
   "id": "b94b6aaa",
   "metadata": {},
   "outputs": [],
   "source": [
    "communities['Modularity-based communities'] = nx.community.greedy_modularity_communities(G_nx)\n",
    "print('No of communities: ', len(communities['Modularity-based communities']))\n",
    "\n",
    "modularity_values['Modularity-based communities'] = nx.community.modularity(G_nx, communities['Modularity-based communities'])\n",
    "\n",
    "partition_quality = nx.community.partition_quality(G_nx, communities['Modularity-based communities'])\n",
    "coverage_values['Modularity-based communities'] = partition_quality[0]\n",
    "performance_values['Modularity-based communities'] = partition_quality[1]"
   ]
  },
  {
   "cell_type": "code",
   "execution_count": null,
   "id": "e4240443",
   "metadata": {},
   "outputs": [],
   "source": [
    "communities['Label propagation'] = nx.community.label_propagation_communities(G_nx)\n",
    "print('No of communities: ', len(communities['Label propagation']))\n",
    "\n",
    "modularity_values['Label propagation'] = nx.community.modularity(G_nx, communities['Label propagation'])\n",
    "\n",
    "partition_quality = nx.community.partition_quality(G_nx, communities['Label propagation'])\n",
    "coverage_values['Label propagation'] = partition_quality[0]\n",
    "performance_values['Label propagation'] = partition_quality[1]"
   ]
  },
  {
   "cell_type": "code",
   "execution_count": null,
   "id": "b2a63fc2",
   "metadata": {},
   "outputs": [],
   "source": [
    "communities['Louvain Community Detection'] = nx.community.louvain_communities(G_nx)\n",
    "print('No of communities: ', len(communities['Louvain Community Detection']))\n",
    "\n",
    "modularity_values['Louvain Community Detection'] = nx.community.modularity(G_nx, communities['Louvain Community Detection'])\n",
    "\n",
    "partition_quality = nx.community.partition_quality(G_nx, communities['Louvain Community Detection'])\n",
    "coverage_values['Louvain Community Detection'] = partition_quality[0]\n",
    "performance_values['Louvain Community Detection'] = partition_quality[1]"
   ]
  },
  {
   "cell_type": "code",
   "execution_count": null,
   "id": "cbad4bc9",
   "metadata": {},
   "outputs": [],
   "source": [
    "communities['Fluid Communities'] = list(nx.community.asyn_fluidc(G_nx, k))\n",
    "print('No of communities: ', len(communities['Fluid Communities']))\n",
    "\n",
    "modularity_values['Fluid Communities'] = nx.community.modularity(G_nx, communities['Fluid Communities'])\n",
    "\n",
    "partition_quality = nx.community.partition_quality(G_nx, communities['Fluid Communities'])\n",
    "coverage_values['Fluid Communities'] = partition_quality[0]\n",
    "performance_values['Fluid Communities'] = partition_quality[1]"
   ]
  },
  {
   "cell_type": "markdown",
   "id": "e6ec61bc",
   "metadata": {},
   "source": [
    "## Output"
   ]
  },
  {
   "cell_type": "code",
   "execution_count": null,
   "id": "09009f02",
   "metadata": {},
   "outputs": [],
   "source": [
    "print(\"Output:\\n\")\n",
    "print('Graph density:', nx.density(G_nx))\n",
    "print('Clustering coefficient:', nx.average_clustering(G_nx))\n",
    "print('Assortativity coefficient:', nx.degree_assortativity_coefficient(G_nx))\n",
    "\n",
    "print(\"\\nCorrelation between centrality measures:\")\n",
    "print(centrality_corr)\n",
    "\n",
    "print(\"\\n\")\n",
    "print(\"Modularity of Community Detection Algorithms\")\n",
    "print(modularity_values)\n",
    "print(\"Coverage of Community Detection Algorithms\")\n",
    "print(coverage_values)\n",
    "print(\"Performance of Community Detection Algorithms\")\n",
    "print(performance_values)"
   ]
  },
  {
   "cell_type": "code",
   "execution_count": null,
   "id": "5c2fd4e4",
   "metadata": {},
   "outputs": [],
   "source": [
    "pos = nx.spring_layout(G_nx)\n",
    "num_algorithms = len(communities)\n",
    "    \n",
    "fig, axes = plt.subplots(1, num_algorithms, figsize=(num_algorithms * 5, 5))\n",
    "\n",
    "for idx, (algorithm, communities) in enumerate(communities.items()):\n",
    "    ax = axes[idx] if num_algorithms > 1 else axes\n",
    "    ax.set_title(algorithm)\n",
    "        \n",
    "    node_colors = []\n",
    "    for node in G_nx.nodes:\n",
    "        for community_idx, community in enumerate(communities, start=1):\n",
    "            if node in community:\n",
    "                node_colors.append(community_idx)\n",
    "                break  # Break once the node is found in a community\n",
    "        \n",
    "    nx.draw(G_nx, pos, ax=ax, with_labels=False, node_size=10, node_color=node_colors, cmap=plt.cm.Set1)\n",
    "    \n",
    "plt.tight_layout()\n",
    "plt.show()"
   ]
  },
  {
   "cell_type": "code",
   "execution_count": null,
   "id": "d15d7cbf",
   "metadata": {},
   "outputs": [],
   "source": [
    "fig, axes = plt.subplots(1, 3, figsize=(20, 6))\n",
    "\n",
    "# Plotting modularity values\n",
    "sns.barplot(x=list(modularity_values.keys()), y=list(modularity_values.values()), ax=axes[0])\n",
    "axes[0].set_title('Modularity of Community Detection Algorithms')\n",
    "axes[0].set_xlabel('Algorithms')\n",
    "axes[0].set_ylabel('Modularity')\n",
    "axes[0].tick_params(axis='x', rotation=30)\n",
    "\n",
    "# Plotting coverage values\n",
    "sns.barplot(x=list(coverage_values.keys()), y=list(coverage_values.values()), ax=axes[1])\n",
    "axes[1].set_title('Coverage of Community Detection Algorithms')\n",
    "axes[1].set_xlabel('Algorithms')\n",
    "axes[1].set_ylabel('Coverage')\n",
    "axes[1].tick_params(axis='x', rotation=30)\n",
    "\n",
    "# Plotting performance values\n",
    "sns.barplot(x=list(performance_values.keys()), y=list(performance_values.values()), ax=axes[2])\n",
    "axes[2].set_title('Performance of Community Detection Algorithms')\n",
    "axes[2].set_xlabel('Algorithms')\n",
    "axes[2].set_ylabel('Performance')\n",
    "axes[2].tick_params(axis='x', rotation=30)\n",
    "\n",
    "plt.tight_layout()\n",
    "plt.show()"
   ]
  },
  {
   "cell_type": "code",
   "execution_count": null,
   "id": "9b46bbbe",
   "metadata": {},
   "outputs": [],
   "source": []
  }
 ],
 "metadata": {
  "kernelspec": {
   "display_name": "Python 3 (ipykernel)",
   "language": "python",
   "name": "python3"
  },
  "language_info": {
   "codemirror_mode": {
    "name": "ipython",
    "version": 3
   },
   "file_extension": ".py",
   "mimetype": "text/x-python",
   "name": "python",
   "nbconvert_exporter": "python",
   "pygments_lexer": "ipython3",
   "version": "3.11.5"
  }
 },
 "nbformat": 4,
 "nbformat_minor": 5
}
