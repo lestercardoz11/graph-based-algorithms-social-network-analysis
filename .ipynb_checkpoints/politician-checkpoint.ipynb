{
 "cells": [
  {
   "cell_type": "code",
   "execution_count": 1,
   "id": "ed0a85d9",
   "metadata": {},
   "outputs": [],
   "source": [
    "import networkx as nx\n",
    "import pandas as pd\n",
    "import powerlaw\n",
    "import matplotlib.pyplot as plt\n",
    "import time\n",
    "import seaborn as sns\n",
    "import itertools"
   ]
  },
  {
   "cell_type": "code",
   "execution_count": 2,
   "id": "5195f7ff",
   "metadata": {},
   "outputs": [],
   "source": [
    "def top10(d: dict) -> list:\n",
    "    for key, value in sorted(d.items(), key=lambda x: x[1], reverse=True)[:10]:\n",
    "        print(f'{key}: {value}')"
   ]
  },
  {
   "cell_type": "code",
   "execution_count": 3,
   "id": "1d6402bf",
   "metadata": {},
   "outputs": [],
   "source": [
    "# Load the graph using NetworkX\n",
    "df = pd.read_csv('politician_edges.csv')\n",
    "edges = [tuple(x) for x in df.to_numpy()]\n",
    "\n",
    "# Creating the graph\n",
    "G_nx = nx.Graph()\n",
    "G_nx.add_edges_from(edges)"
   ]
  },
  {
   "cell_type": "code",
   "execution_count": 4,
   "id": "70e95cc9",
   "metadata": {},
   "outputs": [
    {
     "data": {
      "image/png": "[encoded data removed]",
      "text/plain": [
       "<Figure size 640x480 with 1 Axes>"
      ]
     },
     "metadata": {},
     "output_type": "display_data"
    }
   ],
   "source": [
    "degrees = [d for n, d in G_nx.degree()]\n",
    "# Plot degree distribution\n",
    "plt.hist(degrees, bins=30, alpha=0.7)\n",
    "plt.title('Degree Distribution')\n",
    "plt.xlabel('Degree')\n",
    "plt.ylabel('Frequency')\n",
    "plt.show()"
   ]
  },
  {
   "cell_type": "code",
   "execution_count": 5,
   "id": "5b667ed5",
   "metadata": {},
   "outputs": [
    {
     "name": "stdout",
     "output_type": "stream",
     "text": [
      "Calculating best minimal value for power law fit\n",
      "xmin progress: 00%\r",
      "xmin progress: 00%\r",
      "xmin progress: 01%\r",
      "xmin progress: 02%\r",
      "xmin progress: 03%\r",
      "xmin progress: 04%\r",
      "xmin progress: 05%\r",
      "xmin progress: 06%\r",
      "xmin progress: 07%\r",
      "xmin progress: 08%\r",
      "xmin progress: 09%\r",
      "xmin progress: 10%\r",
      "xmin progress: 11%\r",
      "xmin progress: 12%\r",
      "xmin progress: 13%\r",
      "xmin progress: 14%\r",
      "xmin progress: 15%\r",
      "xmin progress: 16%\r",
      "xmin progress: 17%\r",
      "xmin progress: 18%\r",
      "xmin progress: 19%\r",
      "xmin progress: 20%\r",
      "xmin progress: 20%\r",
      "xmin progress: 21%\r",
      "xmin progress: 22%\r",
      "xmin progress: 23%\r",
      "xmin progress: 24%\r",
      "xmin progress: 25%\r",
      "xmin progress: 26%\r",
      "xmin progress: 27%\r",
      "xmin progress: 28%\r",
      "xmin progress: 29%\r",
      "xmin progress: 30%\r",
      "xmin progress: 31%\r",
      "xmin progress: 32%\r",
      "xmin progress: 33%\r",
      "xmin progress: 34%\r",
      "xmin progress: 35%\r",
      "xmin progress: 36%\r",
      "xmin progress: 37%\r",
      "xmin progress: 38%\r",
      "xmin progress: 39%\r",
      "xmin progress: 40%\r",
      "xmin progress: 40%\r",
      "xmin progress: 41%\r",
      "xmin progress: 42%\r",
      "xmin progress: 43%\r",
      "xmin progress: 44%\r",
      "xmin progress: 45%\r",
      "xmin progress: 46%\r",
      "xmin progress: 47%\r",
      "xmin progress: 48%\r",
      "xmin progress: 49%\r",
      "xmin progress: 50%\r",
      "xmin progress: 51%\r",
      "xmin progress: 52%\r",
      "xmin progress: 53%\r",
      "xmin progress: 54%\r",
      "xmin progress: 55%\r",
      "xmin progress: 56%\r",
      "xmin progress: 57%\r",
      "xmin progress: 58%\r",
      "xmin progress: 59%\r",
      "xmin progress: 60%\r",
      "xmin progress: 60%\r",
      "xmin progress: 61%\r",
      "xmin progress: 62%\r",
      "xmin progress: 63%\r",
      "xmin progress: 64%\r",
      "xmin progress: 65%\r",
      "xmin progress: 66%\r",
      "xmin progress: 67%\r",
      "xmin progress: 68%\r",
      "xmin progress: 69%\r",
      "xmin progress: 70%\r",
      "xmin progress: 71%\r",
      "xmin progress: 72%\r",
      "xmin progress: 73%\r",
      "xmin progress: 74%\r",
      "xmin progress: 75%\r",
      "xmin progress: 76%\r",
      "xmin progress: 77%\r",
      "xmin progress: 78%\r",
      "xmin progress: 79%\r",
      "xmin progress: 80%\r",
      "xmin progress: 80%\r",
      "xmin progress: 81%\r",
      "xmin progress: 82%\r",
      "xmin progress: 83%\r",
      "xmin progress: 84%\r",
      "xmin progress: 85%\r",
      "xmin progress: 86%\r",
      "xmin progress: 87%\r",
      "xmin progress: 88%\r",
      "xmin progress: 89%\r",
      "xmin progress: 90%\r",
      "xmin progress: 91%\r",
      "xmin progress: 92%\r",
      "xmin progress: 93%\r",
      "xmin progress: 94%\r",
      "xmin progress: 95%\r",
      "xmin progress: 96%\r",
      "xmin progress: 97%\r",
      "xmin progress: 98%\r",
      "xmin progress: 99%\r",
      "Number of nodes: 14113\n",
      "Number of edges: 52310\n",
      "Min degree: 1\n",
      "Max degree: 215\n",
      "Average degree: 7.413023453553461\n",
      "Estimated gamma: 3.616731674072018\n"
     ]
    }
   ],
   "source": [
    "# Calculate network properties\n",
    "degree_distr = sorted(dict(G_nx.degree()).values(), reverse=True)\n",
    "fit = powerlaw.Fit(degree_distr)\n",
    "\n",
    "print('Number of nodes:', len(G_nx.nodes()))\n",
    "print('Number of edges:', len(G_nx.edges()))\n",
    "print('Min degree:', min(degrees))\n",
    "print('Max degree:', max(degrees))\n",
    "print('Average degree:', sum(degrees) / len(degrees))\n",
    "print('Estimated gamma:', fit.alpha)"
   ]
  },
  {
   "cell_type": "markdown",
   "id": "b6fbca12",
   "metadata": {},
   "source": [
    "## Centrality"
   ]
  },
  {
   "cell_type": "code",
   "execution_count": 6,
   "id": "97510824",
   "metadata": {},
   "outputs": [
    {
     "name": "stdout",
     "output_type": "stream",
     "text": [
      "Betweenness Centrality:\n",
      "9886: 0.056948978296918334\n",
      "8223: 0.05112654480581488\n",
      "8396: 0.049575786205879\n",
      "856: 0.04489220208264501\n",
      "11380: 0.04210530193545508\n",
      "11934: 0.04190199990098203\n",
      "1237: 0.033271230793848416\n",
      "3221: 0.03034199737128666\n",
      "13635: 0.021140323058018756\n",
      "2897: 0.02072419659251588\n"
     ]
    }
   ],
   "source": [
    "betweenness_centrality = nx.betweenness_centrality(G_nx)\n",
    "print('Betweenness Centrality:')\n",
    "top10(betweenness_centrality)"
   ]
  },
  {
   "cell_type": "code",
   "execution_count": 7,
   "id": "d7382c76",
   "metadata": {},
   "outputs": [
    {
     "name": "stdout",
     "output_type": "stream",
     "text": [
      "Closeness Centrality:\n",
      "8396: 0.29136556964116117\n",
      "11380: 0.2866370117604046\n",
      "1237: 0.2833336679583191\n",
      "786: 0.282663995993991\n",
      "8223: 0.28075201432408237\n",
      "9886: 0.28055666003976143\n",
      "486: 0.2804841691014251\n",
      "636: 0.28032816193559923\n",
      "6658: 0.27985563003212627\n",
      "856: 0.27940681489694497\n"
     ]
    }
   ],
   "source": [
    "closeness_centrality = nx.closeness_centrality(G_nx)\n",
    "print('Closeness Centrality:')\n",
    "top10(closeness_centrality)"
   ]
  },
  {
   "cell_type": "code",
   "execution_count": 8,
   "id": "47d21808",
   "metadata": {},
   "outputs": [
    {
     "name": "stdout",
     "output_type": "stream",
     "text": [
      "Degree Centrality:\n",
      "8396: 0.015235260770975057\n",
      "11934: 0.015022675736961451\n",
      "856: 0.01403061224489796\n",
      "11380: 0.013747165532879819\n",
      "9886: 0.013109410430839002\n",
      "8223: 0.012684240362811792\n",
      "1237: 0.01211734693877551\n",
      "8924: 0.011337868480725623\n",
      "1854: 0.010416666666666666\n",
      "11095: 0.010274943310657597\n"
     ]
    }
   ],
   "source": [
    "degree_centrality = nx.degree_centrality(G_nx)\n",
    "print('Degree Centrality:')\n",
    "top10(degree_centrality)"
   ]
  },
  {
   "cell_type": "code",
   "execution_count": 9,
   "id": "b40408d0",
   "metadata": {},
   "outputs": [
    {
     "name": "stdout",
     "output_type": "stream",
     "text": [
      "Eigenvector Centrality:\n",
      "4596: 0.23186523124095762\n",
      "10503: 0.21448543206732193\n",
      "4535: 0.19984103602439304\n",
      "12970: 0.1827810165431553\n",
      "1229: 0.18273849250852242\n",
      "4741: 0.17371559254938118\n",
      "5471: 0.16455661007537975\n",
      "11390: 0.16342698966568808\n",
      "1030: 0.15968562840537887\n",
      "6609: 0.15888478784732826\n"
     ]
    }
   ],
   "source": [
    "eigenvector_centrality = nx.eigenvector_centrality(G_nx)\n",
    "print('Eigenvector Centrality:')\n",
    "top10(eigenvector_centrality)"
   ]
  },
  {
   "cell_type": "code",
   "execution_count": 10,
   "id": "6a4a9e94",
   "metadata": {},
   "outputs": [
    {
     "name": "stdout",
     "output_type": "stream",
     "text": [
      "Page Rank Centrality:\n",
      "856: 0.0017840518980129802\n",
      "11934: 0.0016560979517055551\n",
      "8396: 0.001627953305989369\n",
      "9886: 0.0015593344704847507\n",
      "11380: 0.0014298929199757422\n",
      "8223: 0.001389573719669282\n",
      "1237: 0.0012396247342353335\n",
      "3221: 0.001172698516866392\n",
      "1854: 0.0010668043067142902\n",
      "8924: 0.001054917806165022\n"
     ]
    }
   ],
   "source": [
    "page_rank_centrality = nx.pagerank(G_nx)\n",
    "print('Page Rank Centrality:')\n",
    "top10(page_rank_centrality)"
   ]
  },
  {
   "cell_type": "code",
   "execution_count": 11,
   "id": "13c64df5",
   "metadata": {},
   "outputs": [
    {
     "name": "stdout",
     "output_type": "stream",
     "text": [
      "HITS Centrality:\n",
      "4596: 0.02449415418015757\n",
      "10503: 0.022658436970578805\n",
      "4535: 0.02111139249944621\n",
      "12970: 0.01930916021058832\n",
      "1229: 0.019304665877371313\n",
      "4741: 0.01835147990736278\n",
      "5471: 0.01738391465324977\n",
      "11390: 0.017264342467579033\n",
      "1030: 0.016868243290366337\n",
      "6609: 0.016783647634814644\n"
     ]
    }
   ],
   "source": [
    "hits_centrality = nx.hits(G_nx)[0]\n",
    "print('HITS Centrality:')\n",
    "top10(hits_centrality)"
   ]
  },
  {
   "cell_type": "code",
   "execution_count": 12,
   "id": "9357153b",
   "metadata": {},
   "outputs": [
    {
     "data": {
      "image/png": "[encoded data removed]",
      "text/plain": [
       "<Figure size 1000x800 with 2 Axes>"
      ]
     },
     "metadata": {},
     "output_type": "display_data"
    }
   ],
   "source": [
    "# Convert centrality measures to DataFrames\n",
    "centrality_measures = {\n",
    "    'Betweenness Centrality': betweenness_centrality,\n",
    "    'Closeness Centrality': closeness_centrality,\n",
    "    'Degree Centrality': degree_centrality,\n",
    "    'Eigenvector Centrality': eigenvector_centrality,\n",
    "    'Page Rank Centrality': page_rank_centrality,\n",
    "    'HITS Centrality': hits_centrality,\n",
    "}\n",
    "\n",
    "# Compute correlations between centrality measures\n",
    "centrality_df = pd.DataFrame(centrality_measures)\n",
    "centrality_corr = centrality_df.corr()\n",
    "\n",
    "# Visualize correlation matrix\n",
    "plt.figure(figsize=(10, 8))\n",
    "plt.title('Correlation Heatmap of Centrality Measures')\n",
    "sns.heatmap(centrality_corr, annot=True, cmap='coolwarm', fmt='.2f', square=True)\n",
    "plt.xticks(rotation=45)\n",
    "plt.yticks(rotation=0)\n",
    "plt.tight_layout()\n",
    "plt.show()"
   ]
  },
  {
   "cell_type": "markdown",
   "id": "57dac8be",
   "metadata": {},
   "source": [
    "## Community Detection"
   ]
  },
  {
   "cell_type": "code",
   "execution_count": 13,
   "id": "fd9384cb",
   "metadata": {},
   "outputs": [],
   "source": [
    "communities = {}\n",
    "modularity_values = {}\n",
    "coverage_values = {}\n",
    "performance_values = {}\n",
    "\n",
    "k = 4\n",
    "max_size = 4"
   ]
  },
  {
   "cell_type": "code",
   "execution_count": 14,
   "id": "9b16560f",
   "metadata": {},
   "outputs": [
    {
     "name": "stdout",
     "output_type": "stream",
     "text": [
      "No of communities:  2\n"
     ]
    }
   ],
   "source": [
    "communities['Bipartitions'] = nx.community.kernighan_lin_bisection(G_nx)\n",
    "print('No of communities: ', len(communities['Bipartitions']))\n",
    "\n",
    "modularity_values['Bipartitions'] = nx.community.modularity(G_nx, communities['Bipartitions'])\n",
    "\n",
    "partition_quality = nx.community.partition_quality(G_nx, communities['Bipartitions'])\n",
    "coverage_values['Bipartitions'] = partition_quality[0]\n",
    "performance_values['Bipartitions'] = partition_quality[1]"
   ]
  },
  {
   "cell_type": "code",
   "execution_count": 15,
   "id": "b94b6aaa",
   "metadata": {},
   "outputs": [
    {
     "name": "stdout",
     "output_type": "stream",
     "text": [
      "No of communities:  195\n"
     ]
    }
   ],
   "source": [
    "communities['Modularity-based communities'] = nx.community.greedy_modularity_communities(G_nx)\n",
    "print('No of communities: ', len(communities['Modularity-based communities']))\n",
    "\n",
    "modularity_values['Modularity-based communities'] = nx.community.modularity(G_nx, communities['Modularity-based communities'])\n",
    "\n",
    "partition_quality = nx.community.partition_quality(G_nx, communities['Modularity-based communities'])\n",
    "coverage_values['Modularity-based communities'] = partition_quality[0]\n",
    "performance_values['Modularity-based communities'] = partition_quality[1]"
   ]
  },
  {
   "cell_type": "code",
   "execution_count": 16,
   "id": "e4240443",
   "metadata": {},
   "outputs": [
    {
     "name": "stdout",
     "output_type": "stream",
     "text": [
      "No of communities:  1308\n"
     ]
    }
   ],
   "source": [
    "communities['Label propagation'] = nx.community.label_propagation_communities(G_nx)\n",
    "print('No of communities: ', len(communities['Label propagation']))\n",
    "\n",
    "modularity_values['Label propagation'] = nx.community.modularity(G_nx, communities['Label propagation'])\n",
    "\n",
    "partition_quality = nx.community.partition_quality(G_nx, communities['Label propagation'])\n",
    "coverage_values['Label propagation'] = partition_quality[0]\n",
    "performance_values['Label propagation'] = partition_quality[1]"
   ]
  },
  {
   "cell_type": "code",
   "execution_count": 17,
   "id": "b2a63fc2",
   "metadata": {},
   "outputs": [
    {
     "name": "stdout",
     "output_type": "stream",
     "text": [
      "No of communities:  72\n"
     ]
    }
   ],
   "source": [
    "communities['Louvain Community Detection'] = nx.community.louvain_communities(G_nx)\n",
    "print('No of communities: ', len(communities['Louvain Community Detection']))\n",
    "\n",
    "modularity_values['Louvain Community Detection'] = nx.community.modularity(G_nx, communities['Louvain Community Detection'])\n",
    "\n",
    "partition_quality = nx.community.partition_quality(G_nx, communities['Louvain Community Detection'])\n",
    "coverage_values['Louvain Community Detection'] = partition_quality[0]\n",
    "performance_values['Louvain Community Detection'] = partition_quality[1]"
   ]
  },
  {
   "cell_type": "code",
   "execution_count": 18,
   "id": "cbad4bc9",
   "metadata": {},
   "outputs": [
    {
     "name": "stdout",
     "output_type": "stream",
     "text": [
      "No of communities:  10\n"
     ]
    }
   ],
   "source": [
    "communities['Fluid Communities'] = list(nx.community.asyn_fluidc(G_nx, k))\n",
    "print('No of communities: ', len(communities['Fluid Communities']))\n",
    "\n",
    "modularity_values['Fluid Communities'] = nx.community.modularity(G_nx, communities['Fluid Communities'])\n",
    "\n",
    "partition_quality = nx.community.partition_quality(G_nx, communities['Fluid Communities'])\n",
    "coverage_values['Fluid Communities'] = partition_quality[0]\n",
    "performance_values['Fluid Communities'] = partition_quality[1]"
   ]
  },
  {
   "cell_type": "code",
   "execution_count": 19,
   "id": "f681b7c1",
   "metadata": {},
   "outputs": [
    {
     "ename": "KeyboardInterrupt",
     "evalue": "",
     "output_type": "error",
     "traceback": [
      "\u001b[1;31m---------------------------------------------------------------------------\u001b[0m",
      "\u001b[1;31mKeyboardInterrupt\u001b[0m                         Traceback (most recent call last)",
      "Cell \u001b[1;32mIn[19], line 2\u001b[0m\n\u001b[0;32m      1\u001b[0m T \u001b[38;5;241m=\u001b[39m nx\u001b[38;5;241m.\u001b[39mminimum_spanning_tree(G_nx)\n\u001b[1;32m----> 2\u001b[0m lukes_partitioning_communities \u001b[38;5;241m=\u001b[39m nx\u001b[38;5;241m.\u001b[39mcommunity\u001b[38;5;241m.\u001b[39mlukes_partitioning(T, max_size)\n\u001b[0;32m      3\u001b[0m \u001b[38;5;28mprint\u001b[39m(\u001b[38;5;124m'\u001b[39m\u001b[38;5;124mNo of communities: \u001b[39m\u001b[38;5;124m'\u001b[39m, \u001b[38;5;28mlen\u001b[39m(lukes_partitioning_communities))\n\u001b[0;32m      5\u001b[0m modularity_values[\u001b[38;5;124m'\u001b[39m\u001b[38;5;124mTree partitioning\u001b[39m\u001b[38;5;124m'\u001b[39m] \u001b[38;5;241m=\u001b[39m nx\u001b[38;5;241m.\u001b[39mcommunity\u001b[38;5;241m.\u001b[39mmodularity(G_nx, lukes_partitioning_communities)\n",
      "File \u001b[1;32m~\\anaconda3\\Lib\\site-packages\\networkx\\algorithms\\community\\lukes.py:198\u001b[0m, in \u001b[0;36mlukes_partitioning\u001b[1;34m(G, max_size, node_weight, edge_weight)\u001b[0m\n\u001b[0;32m    196\u001b[0m part1 \u001b[38;5;241m=\u001b[39m t_G\u001b[38;5;241m.\u001b[39mnodes[x_node][PKEY][a]\n\u001b[0;32m    197\u001b[0m part2 \u001b[38;5;241m=\u001b[39m t_G\u001b[38;5;241m.\u001b[39mnodes[i_node][PKEY][b]\n\u001b[1;32m--> 198\u001b[0m part, value \u001b[38;5;241m=\u001b[39m _concatenate_or_merge(part1, part2, x_node, i_node, j)\n\u001b[0;32m    200\u001b[0m \u001b[38;5;28;01mif\u001b[39;00m j \u001b[38;5;129;01mnot\u001b[39;00m \u001b[38;5;129;01min\u001b[39;00m bp_buffer\u001b[38;5;241m.\u001b[39mkeys() \u001b[38;5;129;01mor\u001b[39;00m bp_buffer[j][\u001b[38;5;241m1\u001b[39m] \u001b[38;5;241m<\u001b[39m value:\n\u001b[0;32m    201\u001b[0m     \u001b[38;5;66;03m# we annotate in the buffer the best partition for j\u001b[39;00m\n\u001b[0;32m    202\u001b[0m     bp_buffer[j] \u001b[38;5;241m=\u001b[39m part, value\n",
      "File \u001b[1;32m~\\anaconda3\\Lib\\site-packages\\networkx\\algorithms\\community\\lukes.py:160\u001b[0m, in \u001b[0;36mlukes_partitioning.<locals>._concatenate_or_merge\u001b[1;34m(partition_1, partition_2, x, i, ref_weight)\u001b[0m\n\u001b[0;32m    157\u001b[0m     cp2 \u001b[38;5;241m=\u001b[39m \u001b[38;5;28mlist\u001b[39m(\u001b[38;5;28mfilter\u001b[39m(\u001b[38;5;28;01mlambda\u001b[39;00m x: x \u001b[38;5;241m!=\u001b[39m cci, partition_2))\n\u001b[0;32m    159\u001b[0m     option_2 \u001b[38;5;241m=\u001b[39m [merged_xi] \u001b[38;5;241m+\u001b[39m cp1 \u001b[38;5;241m+\u001b[39m cp2\n\u001b[1;32m--> 160\u001b[0m     \u001b[38;5;28;01mreturn\u001b[39;00m option_2, _value_of_partition(option_2)\n\u001b[0;32m    161\u001b[0m \u001b[38;5;28;01melse\u001b[39;00m:\n\u001b[0;32m    162\u001b[0m     option_1 \u001b[38;5;241m=\u001b[39m partition_1 \u001b[38;5;241m+\u001b[39m partition_2\n",
      "File \u001b[1;32m~\\anaconda3\\Lib\\site-packages\\networkx\\algorithms\\community\\lukes.py:137\u001b[0m, in \u001b[0;36mlukes_partitioning.<locals>._value_of_partition\u001b[1;34m(partition)\u001b[0m\n\u001b[0;32m    136\u001b[0m \u001b[38;5;28;01mdef\u001b[39;00m \u001b[38;5;21m_value_of_partition\u001b[39m(partition):\n\u001b[1;32m--> 137\u001b[0m     \u001b[38;5;28;01mreturn\u001b[39;00m \u001b[38;5;28msum\u001b[39m(_value_of_cluster(\u001b[38;5;28mfrozenset\u001b[39m(c)) \u001b[38;5;28;01mfor\u001b[39;00m c \u001b[38;5;129;01min\u001b[39;00m partition)\n",
      "File \u001b[1;32m~\\anaconda3\\Lib\\site-packages\\networkx\\algorithms\\community\\lukes.py:137\u001b[0m, in \u001b[0;36m<genexpr>\u001b[1;34m(.0)\u001b[0m\n\u001b[0;32m    136\u001b[0m \u001b[38;5;28;01mdef\u001b[39;00m \u001b[38;5;21m_value_of_partition\u001b[39m(partition):\n\u001b[1;32m--> 137\u001b[0m     \u001b[38;5;28;01mreturn\u001b[39;00m \u001b[38;5;28msum\u001b[39m(_value_of_cluster(\u001b[38;5;28mfrozenset\u001b[39m(c)) \u001b[38;5;28;01mfor\u001b[39;00m c \u001b[38;5;129;01min\u001b[39;00m partition)\n",
      "File \u001b[1;32m~\\anaconda3\\Lib\\site-packages\\networkx\\algorithms\\community\\lukes.py:134\u001b[0m, in \u001b[0;36mlukes_partitioning.<locals>._value_of_cluster\u001b[1;34m(cluster)\u001b[0m\n\u001b[0;32m    131\u001b[0m \u001b[38;5;129m@lru_cache\u001b[39m(CLUSTER_EVAL_CACHE_SIZE)\n\u001b[0;32m    132\u001b[0m \u001b[38;5;28;01mdef\u001b[39;00m \u001b[38;5;21m_value_of_cluster\u001b[39m(cluster):\n\u001b[0;32m    133\u001b[0m     valid_edges \u001b[38;5;241m=\u001b[39m [e \u001b[38;5;28;01mfor\u001b[39;00m e \u001b[38;5;129;01min\u001b[39;00m safe_G\u001b[38;5;241m.\u001b[39medges \u001b[38;5;28;01mif\u001b[39;00m e[\u001b[38;5;241m0\u001b[39m] \u001b[38;5;129;01min\u001b[39;00m cluster \u001b[38;5;129;01mand\u001b[39;00m e[\u001b[38;5;241m1\u001b[39m] \u001b[38;5;129;01min\u001b[39;00m cluster]\n\u001b[1;32m--> 134\u001b[0m     \u001b[38;5;28;01mreturn\u001b[39;00m \u001b[38;5;28msum\u001b[39m(safe_G\u001b[38;5;241m.\u001b[39medges[e][edge_weight] \u001b[38;5;28;01mfor\u001b[39;00m e \u001b[38;5;129;01min\u001b[39;00m valid_edges)\n",
      "\u001b[1;31mKeyboardInterrupt\u001b[0m: "
     ]
    }
   ],
   "source": [
    "T = nx.minimum_spanning_tree(G_nx)\n",
    "communities['Tree partitioning'] = nx.community.lukes_partitioning(T, max_size)\n",
    "print('No of communities: ', len(communities['Tree partitioning']))\n",
    "\n",
    "modularity_values['Tree partitioning'] = nx.community.modularity(G_nx, communities['Tree partitioning'])\n",
    "\n",
    "partition_quality = nx.community.partition_quality(G_nx, communities['Tree partitioning'])\n",
    "coverage_values['Tree partitioning'] = partition_quality[0]\n",
    "performance_values['Tree partitioning'] = partition_quality[1]"
   ]
  },
  {
   "cell_type": "markdown",
   "id": "e6ec61bc",
   "metadata": {},
   "source": [
    "## Output"
   ]
  },
  {
   "cell_type": "code",
   "execution_count": null,
   "id": "09009f02",
   "metadata": {},
   "outputs": [],
   "source": [
    "print(\"Output:\\n\")\n",
    "print('Graph density:', nx.density(G_nx))\n",
    "print('Clustering coefficient:', nx.average_clustering(G_nx))\n",
    "print('Assortativity coefficient:', nx.degree_assortativity_coefficient(G_nx))\n",
    "\n",
    "print(\"\\nCorrelation between centrality measures:\")\n",
    "print(centrality_corr)\n",
    "\n",
    "print(\"\\n\")\n",
    "print(\"Modularity of Community Detection Algorithms\")\n",
    "print(modularity_values)\n",
    "print(\"Coverage of Community Detection Algorithms\")\n",
    "print(coverage_values)\n",
    "print(\"Performance of Community Detection Algorithms\")\n",
    "print(performance_values)"
   ]
  },
  {
   "cell_type": "code",
   "execution_count": null,
   "id": "5c2fd4e4",
   "metadata": {},
   "outputs": [],
   "source": [
    "pos = nx.spring_layout(G_nx)\n",
    "num_algorithms = len(communities)\n",
    "    \n",
    "fig, axes = plt.subplots(1, num_algorithms, figsize=(num_algorithms * 5, 5))\n",
    "\n",
    "for idx, (algorithm, communities) in enumerate(communities.items()):\n",
    "    ax = axes[idx] if num_algorithms > 1 else axes\n",
    "    ax.set_title(algorithm)\n",
    "        \n",
    "    node_colors = []\n",
    "    for node in G_nx.nodes:\n",
    "        for community_idx, community in enumerate(communities, start=1):\n",
    "            if node in community:\n",
    "                node_colors.append(community_idx)\n",
    "                break  # Break once the node is found in a community\n",
    "        \n",
    "    nx.draw(G_nx, pos, ax=ax, with_labels=False, node_size=10, node_color=node_colors, cmap=plt.cm.Set1)\n",
    "    \n",
    "plt.tight_layout()\n",
    "plt.show()"
   ]
  },
  {
   "cell_type": "code",
   "execution_count": null,
   "id": "5e20907e",
   "metadata": {},
   "outputs": [],
   "source": [
    "# Plotting modularity values\n",
    "plt.figure(figsize=(8, 6))\n",
    "sns.barplot(x=list(modularity_values.keys()), y=list(modularity_values.values()))\n",
    "plt.title('Modularity of Community Detection Algorithms')\n",
    "plt.xlabel('Algorithms')\n",
    "plt.ylabel('Modularity')\n",
    "plt.xticks(rotation=30)\n",
    "plt.tight_layout()\n",
    "plt.show()"
   ]
  },
  {
   "cell_type": "code",
   "execution_count": null,
   "id": "79d2be2b",
   "metadata": {},
   "outputs": [],
   "source": [
    "# Plotting coverage values\n",
    "plt.figure(figsize=(8, 6))\n",
    "sns.barplot(x=list(coverage_values.keys()), y=list(coverage_values.values()))\n",
    "plt.title('Coverage of Community Detection Algorithms')\n",
    "plt.xlabel('Algorithms')\n",
    "plt.ylabel('Coverage')\n",
    "plt.xticks(rotation=30)\n",
    "plt.tight_layout()\n",
    "plt.show()"
   ]
  },
  {
   "cell_type": "code",
   "execution_count": null,
   "id": "e584aadd",
   "metadata": {},
   "outputs": [],
   "source": [
    "# Plotting performance values\n",
    "plt.figure(figsize=(8, 6))\n",
    "sns.barplot(x=list(performance_values.keys()), y=list(performance_values.values()))\n",
    "plt.title('Performance of Community Detection Algorithms')\n",
    "plt.xlabel('Algorithms')\n",
    "plt.ylabel('Performance')\n",
    "plt.xticks(rotation=30)\n",
    "plt.tight_layout()\n",
    "plt.show()"
   ]
  }
 ],
 "metadata": {
  "kernelspec": {
   "display_name": "Python 3 (ipykernel)",
   "language": "python",
   "name": "python3"
  },
  "language_info": {
   "codemirror_mode": {
    "name": "ipython",
    "version": 3
   },
   "file_extension": ".py",
   "mimetype": "text/x-python",
   "name": "python",
   "nbconvert_exporter": "python",
   "pygments_lexer": "ipython3",
   "version": "3.11.5"
  }
 },
 "nbformat": 4,
 "nbformat_minor": 5
}
